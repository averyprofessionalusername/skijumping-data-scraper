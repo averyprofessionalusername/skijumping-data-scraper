{
 "cells": [
  {
   "cell_type": "markdown",
   "metadata": {},
   "source": [
    "#Scraping fis athlete data"
   ]
  },
  {
   "cell_type": "markdown",
   "metadata": {},
   "source": [
    "the following cell scrapes fis ID (xcode), name, nationality, birthdate, gender and club info on all fis athletes from the fis website. "
   ]
  },
  {
   "cell_type": "code",
   "execution_count": 1,
   "metadata": {},
   "outputs": [],
   "source": [
    "#!/usr/bin/env python3\n",
    "# -*- coding: utf-8 -*-\n",
    "\"\"\"\n",
    "Created on Wed May 26 16:50:15 2021\n",
    "\n",
    "@author: dominicbolton\n",
    "\"\"\"\n",
    "\n",
    "import requests\n",
    "from bs4 import BeautifulSoup as bs\n",
    "import numpy as np\n",
    "import pandas as pd\n",
    "\n",
    "## can only display 1000 athletes at a time, over 8000 athletes requires 9 different urls\n",
    "URL_1 = 'https://www.fis-ski.com/DB/ski-jumping/biographies.html?lastname=&firstname=&sectorcode=JP&gendercode=&birthyear=&skiclub=&skis=&nationcode=&fiscode=&status=&search=true&limit=1000&offset=000'\n",
    "URL_2 = 'https://www.fis-ski.com/DB/ski-jumping/biographies.html?lastname=&firstname=&sectorcode=JP&gendercode=&birthyear=&skiclub=&skis=&nationcode=&fiscode=&status=&search=true&limit=1000&offset=1000'\n",
    "URL_3 = 'https://www.fis-ski.com/DB/ski-jumping/biographies.html?lastname=&firstname=&sectorcode=JP&gendercode=&birthyear=&skiclub=&skis=&nationcode=&fiscode=&status=&search=true&limit=1000&offset=2000'\n",
    "URL_4 = 'https://www.fis-ski.com/DB/ski-jumping/biographies.html?lastname=&firstname=&sectorcode=JP&gendercode=&birthyear=&skiclub=&skis=&nationcode=&fiscode=&status=&search=true&limit=1000&offset=3000'\n",
    "URL_5 = 'https://www.fis-ski.com/DB/ski-jumping/biographies.html?lastname=&firstname=&sectorcode=JP&gendercode=&birthyear=&skiclub=&skis=&nationcode=&fiscode=&status=&search=true&limit=1000&offset=4000'\n",
    "URL_6 = 'https://www.fis-ski.com/DB/ski-jumping/biographies.html?lastname=&firstname=&sectorcode=JP&gendercode=&birthyear=&skiclub=&skis=&nationcode=&fiscode=&status=&search=true&limit=1000&offset=5000'\n",
    "URL_7 = 'https://www.fis-ski.com/DB/ski-jumping/biographies.html?lastname=&firstname=&sectorcode=JP&gendercode=&birthyear=&skiclub=&skis=&nationcode=&fiscode=&status=&search=true&limit=1000&offset=6000'\n",
    "URL_8 = 'https://www.fis-ski.com/DB/ski-jumping/biographies.html?lastname=&firstname=&sectorcode=JP&gendercode=&birthyear=&skiclub=&skis=&nationcode=&fiscode=&status=&search=true&limit=1000&offset=7000'\n",
    "URL_9 = 'https://www.fis-ski.com/DB/ski-jumping/biographies.html?lastname=&firstname=&sectorcode=JP&gendercode=&birthyear=&skiclub=&skis=&nationcode=&fiscode=&status=&search=true&limit=1000&offset=8000'\n",
    "\n",
    "URLs = [URL_1, URL_2, URL_3, URL_4, URL_5, URL_6, URL_7, URL_8, URL_9]\n",
    "\n",
    "## loop through them all and create a csv for each page\n",
    "for i in range(len(URLs)):\n",
    "\n",
    "    page = requests.get(URLs[i])\n",
    "\n",
    "\n",
    "    soup = bs(page.content, 'html.parser')\n",
    "\n",
    "    xcode_class_str = \"g-lg-3 g-md-3 g-sm-3 g-xs-4 justify-left flex-sm-wrap flex-xs-wrap\"\n",
    "    name_class_str = \"g-lg g-md g-sm g-xs justify-left flex-sm-wrap flex-xs-wrap\"\n",
    "    nation_class_str = \"g-lg-1 g-md-2 g-sm-3 g-xs-3 justify-left\"\n",
    "    birthdate_class_str = \"g-lg-2 g-md-2 g-sm-3 g-xs-6 justify-right pr-lg-1 pr-md-1 pr-sm-1\"\n",
    "    gender_class_str = \"gender__inner\"\n",
    "    club_class_str = \"clip-sm\"\n",
    "\n",
    "    xcodes = soup.find_all(\"div\", {\"class\": xcode_class_str})\n",
    "    names = soup.find_all(\"div\", {\"class\": name_class_str})\n",
    "    nations = soup.find_all(\"div\", {\"class\": nation_class_str})\n",
    "    birthdates = soup.find_all(\"div\", {\"class\": birthdate_class_str})\n",
    "    genders = soup.find_all(\"div\", {\"class\": gender_class_str})\n",
    "    clubs = soup.find_all(\"div\", {\"class\": club_class_str})\n",
    "\n",
    "    xcodes = [xcode.text for xcode in xcodes]\n",
    "    names = [name.text for name in names]\n",
    "    nations = [nation.text for nation in nations]\n",
    "    birthdates = [birthdate.text for birthdate in birthdates]\n",
    "    genders = [gender.text for gender in genders]\n",
    "    clubs = [club.text for club in clubs]\n",
    "\n",
    "    xcodes = [xcode.strip() for xcode in xcodes]\n",
    "    xcodes = [xcode.split() for xcode in xcodes]\n",
    "\n",
    "    xcode_ls = []\n",
    "    for xcode in xcodes:\n",
    "        if len(xcode) == 2:\n",
    "            xcode_ls.append(xcode[1])\n",
    "        else:\n",
    "            xcode_ls.append(xcode[0])\n",
    "\n",
    "    xcodes = xcode_ls\n",
    "    nations = [nation.strip() for nation in nations]\n",
    "    birthdates = pd.Series(birthdates)\n",
    "    birthdates.replace('\\xa0', np.nan)\n",
    "    genders = [gender.strip() for gender in genders]\n",
    "    clubs = pd.Series(clubs)\n",
    "    clubs.replace('\\xa0', np.nan)\n",
    "\n",
    "    Athlete_df = pd.DataFrame({'xcode':xcodes, 'name': names, 'nationality': nations,\n",
    "                               'birthdate': birthdates, 'gender': genders, 'club': clubs})\n",
    "\n",
    "    Athlete_df.to_csv('athlete_data_{}.csv'.format(i))\n"
   ]
  },
  {
   "cell_type": "markdown",
   "metadata": {},
   "source": [
    "Import them back in and compile to a single csv file."
   ]
  },
  {
   "cell_type": "code",
   "execution_count": 8,
   "metadata": {},
   "outputs": [],
   "source": [
    "list_dataframes = []\n",
    "\n",
    "for i in range(9):\n",
    "    list_dataframes.append(pd.read_csv('athlete_data_{}.csv'.format(i)))\n",
    "    \n",
    "All_Athletes = pd.concat(list_dataframes)\n",
    "\n",
    "All_Athletes.reset_index(drop=True, inplace=True)\n",
    "\n",
    "#drop the index cause it apparently didnt like the drop parameter\n",
    "All_Athletes.drop(columns=['Unnamed: 0'], inplace=True)\n",
    "\n",
    "\n",
    "All_Athletes.to_csv('all_athlete_data.csv')"
   ]
  },
  {
   "cell_type": "code",
   "execution_count": null,
   "metadata": {},
   "outputs": [],
   "source": []
  }
 ],
 "metadata": {
  "kernelspec": {
   "display_name": "Python 3",
   "language": "python",
   "name": "python3"
  },
  "language_info": {
   "codemirror_mode": {
    "name": "ipython",
    "version": 3
   },
   "file_extension": ".py",
   "mimetype": "text/x-python",
   "name": "python",
   "nbconvert_exporter": "python",
   "pygments_lexer": "ipython3",
   "version": "3.7.3"
  }
 },
 "nbformat": 4,
 "nbformat_minor": 4
}
